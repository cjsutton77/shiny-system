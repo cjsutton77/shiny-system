{
 "cells": [
  {
   "cell_type": "code",
   "execution_count": 8,
   "metadata": {},
   "outputs": [],
   "source": [
    "class Animal:\n",
    "    def __init__(self, name,size=\"small\"):\n",
    "        self.name = name\n",
    "        self.size = size\n",
    "        \n",
    "    def __repr__(self):\n",
    "        return f\"Animal({self.name}), size is {self.size}\""
   ]
  },
  {
   "cell_type": "code",
   "execution_count": 9,
   "metadata": {},
   "outputs": [],
   "source": [
    "bear = Animal('bear')"
   ]
  },
  {
   "cell_type": "code",
   "execution_count": 10,
   "metadata": {},
   "outputs": [
    {
     "data": {
      "text/plain": [
       "Animal(bear), size is small"
      ]
     },
     "execution_count": 10,
     "metadata": {},
     "output_type": "execute_result"
    }
   ],
   "source": [
    "bear"
   ]
  },
  {
   "cell_type": "code",
   "execution_count": 12,
   "metadata": {},
   "outputs": [],
   "source": [
    "class Land(Animal):\n",
    "    def __init__(self,name,size=\"small\",habitat=\"forest\"):\n",
    "        super().__init__(name,size)\n",
    "        self.habitar = habitat\n",
    "    def where(self):\n",
    "        return f\"{self.name} lives in the {self.habitat} habitat.\"\n",
    "    def __repr__(self):\n",
    "        return f\"Animal({self.name}), size is {self.size}, habitat is {self.habitat}\""
   ]
  },
  {
   "cell_type": "code",
   "execution_count": 16,
   "metadata": {},
   "outputs": [],
   "source": [
    "class Air(Animal):\n",
    "    def __init__(self,name,size=\"small\",height=2):\n",
    "        super().__init__(name,size)\n",
    "        self.height = height\n",
    "    def where(self):\n",
    "        return f\"{self.name} flies @ {self.height} meters.\"  \n",
    "    def __repr__(self):\n",
    "        return f\"Animal({self.name}), size is {self.size}, flight is {self.height} meters\""
   ]
  },
  {
   "cell_type": "code",
   "execution_count": 15,
   "metadata": {},
   "outputs": [],
   "source": [
    "class Water(Animal):\n",
    "    def __init__(self,name,size=\"small\",depth=2):\n",
    "        super().__init__(name,size)\n",
    "        self.depth = depth\n",
    "    def where(self):\n",
    "        return f\"{self.name} swims @ {self.depth} meters.\"   \n",
    "    def __repr__(self):\n",
    "        return f\"Animal({self.name}), size is {self.size}, swim depth is {self.depth}\""
   ]
  },
  {
   "cell_type": "code",
   "execution_count": 18,
   "metadata": {},
   "outputs": [],
   "source": [
    "wolf = Land(\"Wolf\",\"large,\",\"foothills\")\n",
    "bear = Land(\"Bear\",\"medium\",\"mountains\")\n",
    "eagle = Air(\"Eagle\",\"large\",100)\n",
    "duck = Air(\"Duck\",\"small\",10)\n",
    "frog = Water(\"Frog\",\"large\",1)\n",
    "trout = Water(\"Trout\",\"small\",3)"
   ]
  },
  {
   "cell_type": "code",
   "execution_count": 19,
   "metadata": {},
   "outputs": [
    {
     "data": {
      "text/plain": [
       "Animal(Frog), size is large, swim depth is 1"
      ]
     },
     "execution_count": 19,
     "metadata": {},
     "output_type": "execute_result"
    }
   ],
   "source": [
    "frog"
   ]
  },
  {
   "cell_type": "code",
   "execution_count": 20,
   "metadata": {},
   "outputs": [
    {
     "data": {
      "text/plain": [
       "Animal(Trout), size is small, swim depth is 3"
      ]
     },
     "execution_count": 20,
     "metadata": {},
     "output_type": "execute_result"
    }
   ],
   "source": [
    "trout"
   ]
  },
  {
   "cell_type": "code",
   "execution_count": 21,
   "metadata": {},
   "outputs": [
    {
     "data": {
      "text/plain": [
       "Animal(Bear), size is medium"
      ]
     },
     "execution_count": 21,
     "metadata": {},
     "output_type": "execute_result"
    }
   ],
   "source": [
    "bear"
   ]
  },
  {
   "cell_type": "code",
   "execution_count": 22,
   "metadata": {},
   "outputs": [
    {
     "data": {
      "text/plain": [
       "Animal(Wolf), size is large,"
      ]
     },
     "execution_count": 22,
     "metadata": {},
     "output_type": "execute_result"
    }
   ],
   "source": [
    "wolf"
   ]
  },
  {
   "cell_type": "code",
   "execution_count": 23,
   "metadata": {},
   "outputs": [
    {
     "data": {
      "text/plain": [
       "Animal(Eagle), size is large, flight is 100 meters"
      ]
     },
     "execution_count": 23,
     "metadata": {},
     "output_type": "execute_result"
    }
   ],
   "source": [
    "eagle"
   ]
  },
  {
   "cell_type": "code",
   "execution_count": 24,
   "metadata": {},
   "outputs": [
    {
     "data": {
      "text/plain": [
       "Animal(Duck), size is small, flight is 10 meters"
      ]
     },
     "execution_count": 24,
     "metadata": {},
     "output_type": "execute_result"
    }
   ],
   "source": [
    "duck"
   ]
  },
  {
   "cell_type": "code",
   "execution_count": null,
   "metadata": {},
   "outputs": [],
   "source": []
  }
 ],
 "metadata": {
  "kernelspec": {
   "display_name": "Python 3",
   "language": "python",
   "name": "python3"
  },
  "language_info": {
   "codemirror_mode": {
    "name": "ipython",
    "version": 3
   },
   "file_extension": ".py",
   "mimetype": "text/x-python",
   "name": "python",
   "nbconvert_exporter": "python",
   "pygments_lexer": "ipython3",
   "version": "3.8.5"
  }
 },
 "nbformat": 4,
 "nbformat_minor": 4
}
