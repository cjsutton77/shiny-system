{
 "cells": [
  {
   "cell_type": "markdown",
   "metadata": {},
   "source": [
    "### Classes & Class Instances Part 2 by Christian Sutton"
   ]
  },
  {
   "cell_type": "code",
   "execution_count": 1,
   "metadata": {},
   "outputs": [],
   "source": [
    "class Connection:\n",
    "    port = 55000\n",
    "    conn_limit = 10\n",
    "    conn_count = 0\n",
    "    \n",
    "    def __init__(self, host):\n",
    "        # set the host for the instance\n",
    "        self.host = host\n",
    "        # set the port based on the class variable port\n",
    "        self.port = Connection.port\n",
    "        # add 1 to the class's connection_count\n",
    "        Connection.conn_count +=1\n",
    "    def __repr__(self):\n",
    "        return f\"{self.host}, {self.port}\"        \n",
    "\n",
    "    def close(self):\n",
    "        Connection.conn_count-=1"
   ]
  },
  {
   "cell_type": "code",
   "execution_count": 2,
   "metadata": {},
   "outputs": [],
   "source": [
    "c1 = Connection('123')"
   ]
  },
  {
   "cell_type": "code",
   "execution_count": 3,
   "metadata": {},
   "outputs": [
    {
     "data": {
      "text/plain": [
       "123, 55000"
      ]
     },
     "execution_count": 3,
     "metadata": {},
     "output_type": "execute_result"
    }
   ],
   "source": [
    "c1"
   ]
  },
  {
   "cell_type": "code",
   "execution_count": 4,
   "metadata": {},
   "outputs": [
    {
     "data": {
      "text/plain": [
       "55000"
      ]
     },
     "execution_count": 4,
     "metadata": {},
     "output_type": "execute_result"
    }
   ],
   "source": [
    "c1.port"
   ]
  },
  {
   "cell_type": "code",
   "execution_count": 5,
   "metadata": {},
   "outputs": [
    {
     "data": {
      "text/plain": [
       "1"
      ]
     },
     "execution_count": 5,
     "metadata": {},
     "output_type": "execute_result"
    }
   ],
   "source": [
    "Connection.conn_count"
   ]
  },
  {
   "cell_type": "markdown",
   "metadata": {},
   "source": [
    "Replace explicit calls to class with `__class__`"
   ]
  },
  {
   "cell_type": "code",
   "execution_count": 1,
   "metadata": {},
   "outputs": [],
   "source": [
    "class ConnectionC:\n",
    "    port = 55000\n",
    "    conn_limit = 10\n",
    "    conn_count = 0\n",
    "    \n",
    "    def __init__(self, host):\n",
    "        # set the host for the instance\n",
    "        self.host = host\n",
    "        # set the port based on the class variable port\n",
    "        self.port = __class__.port\n",
    "        # add 1 to the class's connection_count\n",
    "        __class__.conn_count +=1\n",
    "    def __repr__(self):\n",
    "        return f\"{self.host}, {self.port}\"        \n",
    "\n",
    "    def close(self):\n",
    "        __class__.conn_count-=1"
   ]
  },
  {
   "cell_type": "code",
   "execution_count": 2,
   "metadata": {},
   "outputs": [],
   "source": [
    "b = ConnectionC('bob')"
   ]
  },
  {
   "cell_type": "code",
   "execution_count": 3,
   "metadata": {},
   "outputs": [
    {
     "data": {
      "text/plain": [
       "bob, 55000"
      ]
     },
     "execution_count": 3,
     "metadata": {},
     "output_type": "execute_result"
    }
   ],
   "source": [
    "b"
   ]
  },
  {
   "cell_type": "code",
   "execution_count": 4,
   "metadata": {},
   "outputs": [
    {
     "data": {
      "text/plain": [
       "1"
      ]
     },
     "execution_count": 4,
     "metadata": {},
     "output_type": "execute_result"
    }
   ],
   "source": [
    "b.conn_count"
   ]
  },
  {
   "cell_type": "code",
   "execution_count": 5,
   "metadata": {},
   "outputs": [],
   "source": [
    "b.close()"
   ]
  },
  {
   "cell_type": "code",
   "execution_count": 6,
   "metadata": {},
   "outputs": [
    {
     "data": {
      "text/plain": [
       "0"
      ]
     },
     "execution_count": 6,
     "metadata": {},
     "output_type": "execute_result"
    }
   ],
   "source": [
    "ConnectionC.conn_count"
   ]
  },
  {
   "cell_type": "markdown",
   "metadata": {},
   "source": [
    "Finally we can create a class method using the `@classmethod` decorator:\n",
    "\n",
    "`@classmethod`\n",
    "\n",
    "`def get_next_port(cls):`\n",
    "\n",
    "With this approach we create methods which receive the class itself (cls) as their first parameter instead of self. Create a class which uses class methods get_next_port, get_connection_count, add_connection and remove_connection to manage the class data attributes.\n",
    "\n",
    "Create an instance of the class. Can you call an instance method from the class method? Can you call the class method from an instance method?"
   ]
  },
  {
   "cell_type": "code",
   "execution_count": 60,
   "metadata": {},
   "outputs": [],
   "source": [
    "class ConnectionD:\n",
    "    port = 55000\n",
    "    conn_limit = 10\n",
    "    conn_count = 0\n",
    "    \n",
    "    def __init__(self, host):\n",
    "        self.host = host\n",
    "    def __repr__(self):\n",
    "        return f\"{self.host}, {self.port}\"        \n",
    "    @classmethod\n",
    "    def get_next_port(cls):\n",
    "        cls.port += 1\n",
    "        return cls.port\n",
    "    @classmethod\n",
    "    def get_connection_count(cls):\n",
    "        return cls.conn_count\n",
    "    @classmethod\n",
    "    def add_connection(cls):\n",
    "        cls.conn_count += 1\n",
    "        #return cls.conn_count\n",
    "    @classmethod\n",
    "    def remove_connection(cls):\n",
    "        cls.conn_count -= 1"
   ]
  },
  {
   "cell_type": "code",
   "execution_count": 61,
   "metadata": {},
   "outputs": [],
   "source": [
    "d = ConnectionD('bill')"
   ]
  },
  {
   "cell_type": "code",
   "execution_count": 62,
   "metadata": {},
   "outputs": [
    {
     "data": {
      "text/plain": [
       "55001"
      ]
     },
     "execution_count": 62,
     "metadata": {},
     "output_type": "execute_result"
    }
   ],
   "source": [
    "d.get_next_port()"
   ]
  },
  {
   "cell_type": "code",
   "execution_count": 63,
   "metadata": {},
   "outputs": [],
   "source": [
    "d.add_connection()"
   ]
  },
  {
   "cell_type": "code",
   "execution_count": 64,
   "metadata": {},
   "outputs": [
    {
     "data": {
      "text/plain": [
       "1"
      ]
     },
     "execution_count": 64,
     "metadata": {},
     "output_type": "execute_result"
    }
   ],
   "source": [
    "d.get_connection_count()"
   ]
  },
  {
   "cell_type": "code",
   "execution_count": 65,
   "metadata": {},
   "outputs": [
    {
     "data": {
      "text/plain": [
       "1"
      ]
     },
     "execution_count": 65,
     "metadata": {},
     "output_type": "execute_result"
    }
   ],
   "source": [
    "d.conn_count"
   ]
  },
  {
   "cell_type": "code",
   "execution_count": 66,
   "metadata": {},
   "outputs": [
    {
     "data": {
      "text/plain": [
       "bill, 55001"
      ]
     },
     "execution_count": 66,
     "metadata": {},
     "output_type": "execute_result"
    }
   ],
   "source": [
    "d"
   ]
  },
  {
   "cell_type": "code",
   "execution_count": 67,
   "metadata": {},
   "outputs": [],
   "source": [
    "d.remove_connection()"
   ]
  },
  {
   "cell_type": "code",
   "execution_count": 68,
   "metadata": {},
   "outputs": [
    {
     "data": {
      "text/plain": [
       "0"
      ]
     },
     "execution_count": 68,
     "metadata": {},
     "output_type": "execute_result"
    }
   ],
   "source": [
    "d.get_connection_count()"
   ]
  },
  {
   "cell_type": "code",
   "execution_count": null,
   "metadata": {},
   "outputs": [],
   "source": []
  }
 ],
 "metadata": {
  "kernelspec": {
   "display_name": "Python 3",
   "language": "python",
   "name": "python3"
  },
  "language_info": {
   "codemirror_mode": {
    "name": "ipython",
    "version": 3
   },
   "file_extension": ".py",
   "mimetype": "text/x-python",
   "name": "python",
   "nbconvert_exporter": "python",
   "pygments_lexer": "ipython3",
   "version": "3.8.5"
  }
 },
 "nbformat": 4,
 "nbformat_minor": 4
}
