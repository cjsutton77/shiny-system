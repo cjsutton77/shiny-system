{
 "cells": [
  {
   "cell_type": "markdown",
   "metadata": {},
   "source": [
    "# Solution by Christian Sutton (christian.sutton@gmail.com)\n",
    "\n",
    "## Objective\n",
    "\n",
    "Get an evidence based understanding of how variables behave in Python.\n",
    "Explore how setting two variables to the same value may (or may not) mean a deeper connection.\n",
    "\n",
    "## Importance to project\n",
    "\n",
    "These activities will help you see how variables (both mutable and immutable) behave when set to the same value. With this understanding of the problem you will be able to finish the project and reveal the truth about how Python variables function.\n",
    "\n",
    "## Workflow\n",
    "\n",
    "Write code to discover the extent of the puzzling behavior - creating and modifying pairs of variables with different types in Python.\n",
    "Include types like int, float, string, list, tuple, and dictionary.\n",
    "Create one variable, then create a second variable that is equal to the first.\n",
    "Change one of the two variables and see what happens. If the type allows it try changing both the contents (an element in a list or dictionary) as well as setting it equal to a new object.\n",
    "State your understanding of the ways Python variables behave.\n",
    "\n",
    "## Deliverable\n",
    "\n",
    "Submit the code you wrote in connection with Milestone 1 below (a Jupyter Notebook or the contents of your shell session). To cover all of the variable types (int, float, string, list, tuple, and dictionary) you should have 8 or 9 sets of variables.\n",
    "\n",
    "Write code to discover the extent of the puzzling behavior -creating and modifying pairs of variables with different types in Python.\n",
    "Include types like `int`, `float`, `str`, `list`, `tuple`, and `dict`.\n",
    "Create one variable, then create a second variable that is equal to the first.\n",
    "Change one of the two variables and see what happens. If the type allows it try changing both the contents (an element in a list or dictionary) as well as setting it equal to a new object."
   ]
  },
  {
   "cell_type": "markdown",
   "metadata": {},
   "source": [
    "## The problem\n",
    "\n",
    "In this liveProject, you are a Python developer working on a team. A developer new to Python has come to you because he’s puzzled by some bugs in his code. Apparently, sometimes when he makes a copy of a variable and makes changes to the copy those changes are also unexpectedly made to the original. Other times, this doesn’t happen.\n",
    "\n",
    "Specifically, he’s noticed that when he creates a variable and then assigns it to a second variable, he gets a surprising result:\n",
    "\n",
    "`a = [1, 2, 3]`\n",
    "\n",
    "`b = a`\n",
    "\n",
    "`b[1] = 9`\n",
    "\n",
    "`print(a, b)`\n",
    "\n",
    "`[1, 9, 3] [1, 9, 3]`\n",
    "\n",
    "But with int’s it behaves differently:\n",
    "\n",
    "`a = 1`\n",
    "\n",
    "`b = a`\n",
    "\n",
    "`b = 2`\n",
    "\n",
    "`print(a, b)`\n",
    "\n",
    "`1 2`\n",
    "You can see this illustrated in the introduction video.\n",
    "\n",
    "This behavior has him completely puzzled. Why is it one way with int’s and another with lists?\n",
    "\n",
    "He’s wondering if he’s found a bug in Python, or if there is something he doesn’t understand about Python variables. You need to set him straight in a way that he’ll remember, so that he’ll be able to reason correctly about variables in the future."
   ]
  },
  {
   "cell_type": "code",
   "execution_count": 1,
   "metadata": {},
   "outputs": [],
   "source": [
    "def ids(*args):\n",
    "    for i in args:\n",
    "        print(f'{i}\\'s id is {id(i)}')"
   ]
  },
  {
   "cell_type": "markdown",
   "metadata": {},
   "source": [
    "### Integers"
   ]
  },
  {
   "cell_type": "code",
   "execution_count": 2,
   "metadata": {},
   "outputs": [],
   "source": [
    "a = 10\n",
    "b = 5"
   ]
  },
  {
   "cell_type": "code",
   "execution_count": 3,
   "metadata": {},
   "outputs": [
    {
     "name": "stdout",
     "output_type": "stream",
     "text": [
      "10's id is 4430994048\n",
      "5's id is 4430993888\n"
     ]
    }
   ],
   "source": [
    "ids(a,b)"
   ]
  },
  {
   "cell_type": "code",
   "execution_count": 4,
   "metadata": {},
   "outputs": [
    {
     "name": "stdout",
     "output_type": "stream",
     "text": [
      "10's id is 4430994048\n",
      "10's id is 4430994048\n"
     ]
    }
   ],
   "source": [
    "b=a\n",
    "ids(a,b)"
   ]
  },
  {
   "cell_type": "code",
   "execution_count": 5,
   "metadata": {},
   "outputs": [
    {
     "name": "stdout",
     "output_type": "stream",
     "text": [
      "25's id is 4430994528\n",
      "10's id is 4430994048\n"
     ]
    }
   ],
   "source": [
    "a=25\n",
    "ids(a,b)"
   ]
  },
  {
   "cell_type": "code",
   "execution_count": 6,
   "metadata": {},
   "outputs": [],
   "source": [
    "del(a)\n",
    "del(b)"
   ]
  },
  {
   "cell_type": "markdown",
   "metadata": {},
   "source": [
    "### Floats"
   ]
  },
  {
   "cell_type": "code",
   "execution_count": 7,
   "metadata": {},
   "outputs": [],
   "source": [
    "a = 10.0001\n",
    "b = 5.0001"
   ]
  },
  {
   "cell_type": "code",
   "execution_count": 8,
   "metadata": {},
   "outputs": [
    {
     "name": "stdout",
     "output_type": "stream",
     "text": [
      "10.0001's id is 140490171561648\n",
      "5.0001's id is 140490171561264\n"
     ]
    }
   ],
   "source": [
    "ids(a,b)"
   ]
  },
  {
   "cell_type": "code",
   "execution_count": 9,
   "metadata": {},
   "outputs": [
    {
     "name": "stdout",
     "output_type": "stream",
     "text": [
      "10.0001's id is 140490171561648\n",
      "10.0001's id is 140490171561648\n"
     ]
    }
   ],
   "source": [
    "b=a\n",
    "ids(a,b)"
   ]
  },
  {
   "cell_type": "code",
   "execution_count": 10,
   "metadata": {},
   "outputs": [
    {
     "name": "stdout",
     "output_type": "stream",
     "text": [
      "25.0989's id is 140490171561840\n",
      "10.0001's id is 140490171561648\n"
     ]
    }
   ],
   "source": [
    "a=25.0989\n",
    "ids(a,b)"
   ]
  },
  {
   "cell_type": "code",
   "execution_count": 11,
   "metadata": {},
   "outputs": [],
   "source": [
    "del(a)\n",
    "del(b)"
   ]
  },
  {
   "cell_type": "markdown",
   "metadata": {},
   "source": [
    "### Strings"
   ]
  },
  {
   "cell_type": "code",
   "execution_count": 12,
   "metadata": {},
   "outputs": [],
   "source": [
    "a_str = 'geophysics'\n",
    "b_str = 'data science'"
   ]
  },
  {
   "cell_type": "code",
   "execution_count": 13,
   "metadata": {},
   "outputs": [
    {
     "name": "stdout",
     "output_type": "stream",
     "text": [
      "geophysics's id is 140490171965808\n",
      "data science's id is 140490171965680\n"
     ]
    }
   ],
   "source": [
    "ids(a_str,b_str)"
   ]
  },
  {
   "cell_type": "code",
   "execution_count": 14,
   "metadata": {},
   "outputs": [
    {
     "data": {
      "text/plain": [
       "'physics'"
      ]
     },
     "execution_count": 14,
     "metadata": {},
     "output_type": "execute_result"
    }
   ],
   "source": [
    "a_str = a_str[3:]\n",
    "a_str"
   ]
  },
  {
   "cell_type": "code",
   "execution_count": 15,
   "metadata": {},
   "outputs": [
    {
     "name": "stdout",
     "output_type": "stream",
     "text": [
      "physics's id is 140490171974640\n",
      "data science's id is 140490171965680\n"
     ]
    }
   ],
   "source": [
    "ids(a_str,b_str)"
   ]
  },
  {
   "cell_type": "code",
   "execution_count": 16,
   "metadata": {},
   "outputs": [
    {
     "name": "stdout",
     "output_type": "stream",
     "text": [
      "physics's id is 140490171974640\n",
      "physics's id is 140490171974640\n"
     ]
    }
   ],
   "source": [
    "b_str = a_str\n",
    "ids(a_str,b_str)"
   ]
  },
  {
   "cell_type": "code",
   "execution_count": 17,
   "metadata": {},
   "outputs": [
    {
     "name": "stdout",
     "output_type": "stream",
     "text": [
      "physics phy!ic!\n"
     ]
    }
   ],
   "source": [
    "b_str = b_str.replace('s','!')\n",
    "print(a_str,b_str)"
   ]
  },
  {
   "cell_type": "code",
   "execution_count": 18,
   "metadata": {},
   "outputs": [
    {
     "name": "stdout",
     "output_type": "stream",
     "text": [
      "physics's id is 140490171974640\n",
      "phy!ic!'s id is 140490171687728\n"
     ]
    }
   ],
   "source": [
    "ids(a_str,b_str)"
   ]
  },
  {
   "cell_type": "code",
   "execution_count": 19,
   "metadata": {},
   "outputs": [],
   "source": [
    "del(a_str)\n",
    "del(b_str)"
   ]
  },
  {
   "cell_type": "markdown",
   "metadata": {},
   "source": [
    "### Lists"
   ]
  },
  {
   "cell_type": "code",
   "execution_count": 20,
   "metadata": {},
   "outputs": [
    {
     "name": "stdout",
     "output_type": "stream",
     "text": [
      "[0, 1, 2, 3, 4] [4, 3, 2, 1, 0]\n"
     ]
    }
   ],
   "source": [
    "a = [i for i in range(5)]\n",
    "b = [i for i in range(4,-1,-1)]\n",
    "print(a,b)"
   ]
  },
  {
   "cell_type": "code",
   "execution_count": 21,
   "metadata": {},
   "outputs": [
    {
     "name": "stdout",
     "output_type": "stream",
     "text": [
      "[0, 1, 2, 3, 4]'s id is 140490171997568\n",
      "[4, 3, 2, 1, 0]'s id is 140490171326336\n"
     ]
    }
   ],
   "source": [
    "ids(a,b)"
   ]
  },
  {
   "cell_type": "code",
   "execution_count": 22,
   "metadata": {},
   "outputs": [
    {
     "name": "stdout",
     "output_type": "stream",
     "text": [
      "[0, 1, 2, 3, 4]\n"
     ]
    }
   ],
   "source": [
    "b=a\n",
    "print(b)"
   ]
  },
  {
   "cell_type": "code",
   "execution_count": 23,
   "metadata": {},
   "outputs": [
    {
     "name": "stdout",
     "output_type": "stream",
     "text": [
      "[0, 1, 2, 3, 4]'s id is 140490171997568\n",
      "[0, 1, 2, 3, 4]'s id is 140490171997568\n"
     ]
    }
   ],
   "source": [
    "ids(a,b)"
   ]
  },
  {
   "cell_type": "code",
   "execution_count": 24,
   "metadata": {},
   "outputs": [
    {
     "data": {
      "text/plain": [
       "[0, 1, 2, 99, 4]"
      ]
     },
     "execution_count": 24,
     "metadata": {},
     "output_type": "execute_result"
    }
   ],
   "source": [
    "a[3] = 99\n",
    "a"
   ]
  },
  {
   "cell_type": "code",
   "execution_count": 25,
   "metadata": {},
   "outputs": [
    {
     "data": {
      "text/plain": [
       "[0, 1, 2, 99, 4]"
      ]
     },
     "execution_count": 25,
     "metadata": {},
     "output_type": "execute_result"
    }
   ],
   "source": [
    "b"
   ]
  },
  {
   "cell_type": "code",
   "execution_count": 26,
   "metadata": {},
   "outputs": [
    {
     "data": {
      "text/plain": [
       "[0, 1, 2, 99, 4]"
      ]
     },
     "execution_count": 26,
     "metadata": {},
     "output_type": "execute_result"
    }
   ],
   "source": [
    "# copy method does not have this behavior\n",
    "c = b.copy()\n",
    "c"
   ]
  },
  {
   "cell_type": "code",
   "execution_count": 27,
   "metadata": {},
   "outputs": [
    {
     "data": {
      "text/plain": [
       "[0, 1, 2, 420, 4]"
      ]
     },
     "execution_count": 27,
     "metadata": {},
     "output_type": "execute_result"
    }
   ],
   "source": [
    "b[3] = 420\n",
    "b"
   ]
  },
  {
   "cell_type": "code",
   "execution_count": 28,
   "metadata": {},
   "outputs": [
    {
     "data": {
      "text/plain": [
       "[0, 1, 2, 99, 4]"
      ]
     },
     "execution_count": 28,
     "metadata": {},
     "output_type": "execute_result"
    }
   ],
   "source": [
    "c"
   ]
  },
  {
   "cell_type": "code",
   "execution_count": 29,
   "metadata": {},
   "outputs": [
    {
     "name": "stdout",
     "output_type": "stream",
     "text": [
      "[0, 1, 2, 420, 4]'s id is 140490171997568\n",
      "[0, 1, 2, 420, 4]'s id is 140490171997568\n",
      "[0, 1, 2, 99, 4]'s id is 140490171370560\n"
     ]
    }
   ],
   "source": [
    "ids(a,b,c)"
   ]
  },
  {
   "cell_type": "code",
   "execution_count": 30,
   "metadata": {},
   "outputs": [],
   "source": [
    "del(a)\n",
    "del(b)\n",
    "del(c)"
   ]
  },
  {
   "cell_type": "markdown",
   "metadata": {},
   "source": [
    "### Tuples\n",
    "\n",
    "tuples do not permit item assignment"
   ]
  },
  {
   "cell_type": "code",
   "execution_count": 31,
   "metadata": {},
   "outputs": [
    {
     "name": "stdout",
     "output_type": "stream",
     "text": [
      "(1, 2, 3)'s id is 140490172038400\n",
      "(4, 8, 6)'s id is 140490171633088\n"
     ]
    }
   ],
   "source": [
    "t1 = (1,2,3)\n",
    "t2 = (4,8,6)\n",
    "ids(t1,t2)"
   ]
  },
  {
   "cell_type": "code",
   "execution_count": 32,
   "metadata": {},
   "outputs": [
    {
     "name": "stdout",
     "output_type": "stream",
     "text": [
      "(4, 8, 6)'s id is 140490171633088\n",
      "(4, 8, 6)'s id is 140490171633088\n"
     ]
    }
   ],
   "source": [
    "t1 = t2\n",
    "ids(t1,t2)"
   ]
  },
  {
   "cell_type": "markdown",
   "metadata": {},
   "source": [
    "### Dictionaries"
   ]
  },
  {
   "cell_type": "code",
   "execution_count": 33,
   "metadata": {},
   "outputs": [
    {
     "name": "stdout",
     "output_type": "stream",
     "text": [
      "{'a': 1, 'b': 5}'s id is 140490172198144\n",
      "{'c': 88, 'd': 99}'s id is 140490172198464\n"
     ]
    }
   ],
   "source": [
    "d1 = {'a':1,'b':5}\n",
    "d2 = {'c':88,'d':99}\n",
    "ids(d1,d2)"
   ]
  },
  {
   "cell_type": "code",
   "execution_count": 34,
   "metadata": {},
   "outputs": [
    {
     "data": {
      "text/plain": [
       "{'a': 1, 'b': 9}"
      ]
     },
     "execution_count": 34,
     "metadata": {},
     "output_type": "execute_result"
    }
   ],
   "source": [
    "d2 = d1\n",
    "d1['b'] = 9\n",
    "d1"
   ]
  },
  {
   "cell_type": "code",
   "execution_count": 35,
   "metadata": {},
   "outputs": [
    {
     "data": {
      "text/plain": [
       "{'a': 1, 'b': 9}"
      ]
     },
     "execution_count": 35,
     "metadata": {},
     "output_type": "execute_result"
    }
   ],
   "source": [
    "d2"
   ]
  },
  {
   "cell_type": "code",
   "execution_count": 36,
   "metadata": {},
   "outputs": [
    {
     "name": "stdout",
     "output_type": "stream",
     "text": [
      "{'a': 1, 'b': 9}'s id is 140490172198144\n",
      "{'a': 1, 'b': 9}'s id is 140490172198144\n"
     ]
    }
   ],
   "source": [
    "ids(d1,d2)"
   ]
  },
  {
   "cell_type": "code",
   "execution_count": null,
   "metadata": {},
   "outputs": [],
   "source": []
  }
 ],
 "metadata": {
  "kernelspec": {
   "display_name": "Python 3",
   "language": "python",
   "name": "python3"
  },
  "language_info": {
   "codemirror_mode": {
    "name": "ipython",
    "version": 3
   },
   "file_extension": ".py",
   "mimetype": "text/x-python",
   "name": "python",
   "nbconvert_exporter": "python",
   "pygments_lexer": "ipython3",
   "version": "3.8.5"
  }
 },
 "nbformat": 4,
 "nbformat_minor": 4
}
